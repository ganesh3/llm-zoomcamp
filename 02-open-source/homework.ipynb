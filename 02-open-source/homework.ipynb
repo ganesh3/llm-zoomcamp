{
 "cells": [
  {
   "cell_type": "markdown",
   "metadata": {},
   "source": [
    "Q1: Run the following command\n",
    "docker run -it \\\n",
    "    --rm \\\n",
    "    -v ollama:/root/.ollama \\\n",
    "    -p 11434:11434 \\\n",
    "    --name ollama \\\n",
    "    ollama/ollama\n",
    "\n",
    "    Followed by\n",
    "    docker exec -it ollama bash\n",
    "    ollama -v\n",
    "\n",
    "    ollama version is 0.1.48"
   ]
  },
  {
   "cell_type": "markdown",
   "metadata": {},
   "source": [
    "Q2. run the below in the ollama bash\n",
    "ollama pull gemma:2b\n",
    "\n",
    "Change directory to /root/.ollama/models/manifests/registry.ollama.ai/library/gemma\n",
    "\n",
    "run cat 2b\n",
    "\n",
    "{\"schemaVersion\":2,\"mediaType\":\"application/vnd.docker.distribution.manifest.v2+json\",\"config\":{\"mediaType\":\"application/vnd.docker.container.image.v1+json\",\"digest\":\"sha256:887433b89a901c156f7e6944442f3c9e57f3c55d6ed52042cbb7303aea994290\",\"size\":483},\"layers\":[{\"mediaType\":\"application/vnd.ollama.image.model\",\"digest\":\"sha256:c1864a5eb19305c40519da12cc543519e48a0697ecd30e15d5ac228644957d12\",\"size\":1678447520},{\"mediaType\":\"application/vnd.ollama.image.license\",\"digest\":\"sha256:097a36493f718248845233af1d3fefe7a303f864fae13bc31a3a9704229378ca\",\"size\":8433},{\"mediaType\":\"application/vnd.ollama.image.template\",\"digest\":\"sha256:109037bec39c0becc8221222ae23557559bc594290945a2c4221ab4f303b8871\",\"size\":136},{\"mediaType\":\"application/vnd.ollama.image.params\",\"digest\":\"sha256:22a838ceb7fb22755a3b0ae9b4eadde629d19be1f651f73efb8c6b4e2cd0eea0\",\"size\":84}]}\n"
   ]
  },
  {
   "cell_type": "markdown",
   "metadata": {},
   "source": [
    "Q3. Test the following prompt: \"10 * 10\" returns\n",
    "This model will print the following output to the console:  ``` 100 ```"
   ]
  },
  {
   "cell_type": "markdown",
   "metadata": {},
   "source": [
    "Q4: the size of the ollama_files/models folder is 1.7 GB which is found using du -h command"
   ]
  },
  {
   "cell_type": "markdown",
   "metadata": {},
   "source": [
    "Q5: Dockerfile\n",
    "#### Stage 1: Build stage\n",
    "FROM ollama/ollama as builder\n",
    "\n",
    "#### Copy the weights into a temporary directory in the builder stage\n",
    "COPY ./ollama_files/models /tmp/models\n",
    "\n",
    "#### Stage 2: Final stage\n",
    "FROM ollama/ollama\n",
    "\n",
    "#### Copy the weights from the builder stage into the final image\n",
    "COPY --from=builder /tmp/models /root/.ollama/models"
   ]
  },
  {
   "cell_type": "markdown",
   "metadata": {},
   "source": [
    "Q6: "
   ]
  }
 ],
 "metadata": {
  "language_info": {
   "name": "python"
  }
 },
 "nbformat": 4,
 "nbformat_minor": 2
}
