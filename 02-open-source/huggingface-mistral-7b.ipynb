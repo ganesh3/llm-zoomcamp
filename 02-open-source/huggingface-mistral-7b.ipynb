{
 "cells": [
  {
   "cell_type": "markdown",
   "id": "d658f909-e679-41e9-9c4e-e0241c719049",
   "metadata": {},
   "source": [
    "If you're not running in Saturn Cloud, you need to install these libraries:\n",
    "\n",
    "Make sure you use the latest versions\n",
    "\n",
    "```\n",
    "pip install -U transformers accelerate bitsandbytes\n",
    "```"
   ]
  },
  {
   "cell_type": "code",
   "execution_count": 1,
   "id": "b9f11412-8495-4459-9677-ff339c09c904",
   "metadata": {
    "execution": {
     "iopub.execute_input": "2024-07-04T03:33:08.421038Z",
     "iopub.status.busy": "2024-07-04T03:33:08.420680Z",
     "iopub.status.idle": "2024-07-04T03:33:09.030041Z",
     "shell.execute_reply": "2024-07-04T03:33:09.029029Z",
     "shell.execute_reply.started": "2024-07-04T03:33:08.421010Z"
    },
    "tags": []
   },
   "outputs": [
    {
     "name": "stdout",
     "output_type": "stream",
     "text": [
      "Filesystem      Size  Used Avail Use% Mounted on\n",
      "overlay         100G   36G   65G  36% /\n",
      "tmpfs            64M     0   64M   0% /dev\n",
      "tmpfs           7.7G     0  7.7G   0% /sys/fs/cgroup\n",
      "/dev/nvme0n1p1  100G   36G   65G  36% /run\n",
      "tmpfs            14G     0   14G   0% /dev/shm\n",
      "/dev/nvme2n1    2.0G  141M  1.8G   8% /home/jovyan\n",
      "tmpfs            14G  120K   14G   1% /home/jovyan/.saturn\n",
      "tmpfs            14G   12K   14G   1% /run/secrets/kubernetes.io/serviceaccount\n",
      "tmpfs           7.7G   12K  7.7G   1% /proc/driver/nvidia\n",
      "tmpfs           7.7G  3.8M  7.7G   1% /run/nvidia-persistenced/socket\n",
      "tmpfs           7.7G     0  7.7G   0% /proc/acpi\n",
      "tmpfs           7.7G     0  7.7G   0% /sys/firmware\n"
     ]
    }
   ],
   "source": [
    "!df -h"
   ]
  },
  {
   "cell_type": "code",
   "execution_count": 2,
   "id": "742191ce-b50d-4547-bcdf-5e922632b7ad",
   "metadata": {
    "execution": {
     "iopub.execute_input": "2024-07-04T03:33:09.336294Z",
     "iopub.status.busy": "2024-07-04T03:33:09.335900Z",
     "iopub.status.idle": "2024-07-04T03:33:09.340151Z",
     "shell.execute_reply": "2024-07-04T03:33:09.339292Z",
     "shell.execute_reply.started": "2024-07-04T03:33:09.336265Z"
    },
    "tags": []
   },
   "outputs": [],
   "source": [
    "import os"
   ]
  },
  {
   "cell_type": "code",
   "execution_count": 3,
   "id": "8593e5f1-756f-465c-95ec-d391d450e3ba",
   "metadata": {
    "execution": {
     "iopub.execute_input": "2024-07-04T03:33:09.839142Z",
     "iopub.status.busy": "2024-07-04T03:33:09.838771Z",
     "iopub.status.idle": "2024-07-04T03:33:09.842753Z",
     "shell.execute_reply": "2024-07-04T03:33:09.841921Z",
     "shell.execute_reply.started": "2024-07-04T03:33:09.839118Z"
    },
    "tags": []
   },
   "outputs": [],
   "source": [
    "os.environ['HF_HOME'] = '/run/cache'"
   ]
  },
  {
   "cell_type": "code",
   "execution_count": 4,
   "id": "2cbafd67-6972-4e8c-a93a-25118a8aae63",
   "metadata": {
    "execution": {
     "iopub.execute_input": "2024-07-04T03:33:10.346960Z",
     "iopub.status.busy": "2024-07-04T03:33:10.346589Z",
     "iopub.status.idle": "2024-07-04T03:33:10.353937Z",
     "shell.execute_reply": "2024-07-04T03:33:10.353252Z",
     "shell.execute_reply.started": "2024-07-04T03:33:10.346936Z"
    },
    "tags": []
   },
   "outputs": [
    {
     "data": {
      "text/plain": [
       "'/run/cache'"
      ]
     },
     "execution_count": 4,
     "metadata": {},
     "output_type": "execute_result"
    }
   ],
   "source": [
    "os.getenv('HF_HOME')"
   ]
  },
  {
   "cell_type": "code",
   "execution_count": 5,
   "id": "506fab2a-a50c-42bd-a106-c83a9d2828ea",
   "metadata": {
    "execution": {
     "iopub.execute_input": "2024-07-04T03:33:10.782424Z",
     "iopub.status.busy": "2024-07-04T03:33:10.782058Z",
     "iopub.status.idle": "2024-07-04T03:33:12.108520Z",
     "shell.execute_reply": "2024-07-04T03:33:12.107755Z",
     "shell.execute_reply.started": "2024-07-04T03:33:10.782396Z"
    },
    "tags": []
   },
   "outputs": [
    {
     "name": "stdout",
     "output_type": "stream",
     "text": [
      "--2024-07-04 03:33:11--  https://raw.githubusercontent.com/alexeygrigorev/minsearch/main/minsearch.py\n",
      "Resolving raw.githubusercontent.com (raw.githubusercontent.com)... 185.199.108.133, 185.199.109.133, 185.199.110.133, ...\n",
      "Connecting to raw.githubusercontent.com (raw.githubusercontent.com)|185.199.108.133|:443... connected.\n",
      "HTTP request sent, awaiting response... 200 OK\n",
      "Length: 3832 (3.7K) [text/plain]\n",
      "Saving to: ‘minsearch.py’\n",
      "\n",
      "minsearch.py        100%[===================>]   3.74K  --.-KB/s    in 0s      \n",
      "\n",
      "2024-07-04 03:33:12 (76.1 MB/s) - ‘minsearch.py’ saved [3832/3832]\n",
      "\n"
     ]
    }
   ],
   "source": [
    "!rm -f minsearch.py\n",
    "!wget https://raw.githubusercontent.com/alexeygrigorev/minsearch/main/minsearch.py"
   ]
  },
  {
   "cell_type": "code",
   "execution_count": 6,
   "id": "3ac947de-effd-4b61-8792-a6d7a133f347",
   "metadata": {
    "execution": {
     "iopub.execute_input": "2024-07-04T03:33:12.110541Z",
     "iopub.status.busy": "2024-07-04T03:33:12.110137Z",
     "iopub.status.idle": "2024-07-04T03:33:15.643086Z",
     "shell.execute_reply": "2024-07-04T03:33:15.642390Z",
     "shell.execute_reply.started": "2024-07-04T03:33:12.110513Z"
    },
    "tags": []
   },
   "outputs": [
    {
     "data": {
      "text/plain": [
       "<minsearch.Index at 0x7f72746fb8e0>"
      ]
     },
     "execution_count": 6,
     "metadata": {},
     "output_type": "execute_result"
    }
   ],
   "source": [
    "import requests \n",
    "import minsearch\n",
    "\n",
    "docs_url = 'https://github.com/DataTalksClub/llm-zoomcamp/blob/main/01-intro/documents.json?raw=1'\n",
    "docs_response = requests.get(docs_url)\n",
    "documents_raw = docs_response.json()\n",
    "\n",
    "documents = []\n",
    "\n",
    "for course in documents_raw:\n",
    "    course_name = course['course']\n",
    "\n",
    "    for doc in course['documents']:\n",
    "        doc['course'] = course_name\n",
    "        documents.append(doc)\n",
    "\n",
    "index = minsearch.Index(\n",
    "    text_fields=[\"question\", \"text\", \"section\"],\n",
    "    keyword_fields=[\"course\"]\n",
    ")\n",
    "\n",
    "index.fit(documents)"
   ]
  },
  {
   "cell_type": "code",
   "execution_count": 7,
   "id": "8f087272-b44d-4738-9ea2-175ec63a058b",
   "metadata": {
    "execution": {
     "iopub.execute_input": "2024-07-04T03:33:15.645076Z",
     "iopub.status.busy": "2024-07-04T03:33:15.644550Z",
     "iopub.status.idle": "2024-07-04T03:33:15.649544Z",
     "shell.execute_reply": "2024-07-04T03:33:15.648592Z",
     "shell.execute_reply.started": "2024-07-04T03:33:15.645039Z"
    },
    "tags": []
   },
   "outputs": [],
   "source": [
    "def search(query):\n",
    "    boost = {'question': 3.0, 'section': 0.5}\n",
    "\n",
    "    results = index.search(\n",
    "        query=query,\n",
    "        filter_dict={'course': 'data-engineering-zoomcamp'},\n",
    "        boost_dict=boost,\n",
    "        num_results=5\n",
    "    )\n",
    "\n",
    "    return results"
   ]
  },
  {
   "cell_type": "code",
   "execution_count": 8,
   "id": "fe8bff3e-b672-42be-866b-f2d9bb217106",
   "metadata": {
    "execution": {
     "iopub.execute_input": "2024-07-04T03:33:15.651379Z",
     "iopub.status.busy": "2024-07-04T03:33:15.650679Z",
     "iopub.status.idle": "2024-07-04T03:33:15.655809Z",
     "shell.execute_reply": "2024-07-04T03:33:15.655186Z",
     "shell.execute_reply.started": "2024-07-04T03:33:15.651346Z"
    },
    "tags": []
   },
   "outputs": [],
   "source": [
    "def rag(query):\n",
    "    search_results = search(query)\n",
    "    prompt = build_prompt(query, search_results)\n",
    "    answer = llm(prompt)\n",
    "    return answer"
   ]
  },
  {
   "cell_type": "code",
   "execution_count": 9,
   "id": "091df3fe-f945-4692-8c1b-ee70e2275e74",
   "metadata": {
    "execution": {
     "iopub.execute_input": "2024-07-04T03:33:41.385205Z",
     "iopub.status.busy": "2024-07-04T03:33:41.384823Z",
     "iopub.status.idle": "2024-07-04T03:33:47.123075Z",
     "shell.execute_reply": "2024-07-04T03:33:47.122414Z",
     "shell.execute_reply.started": "2024-07-04T03:33:41.385180Z"
    },
    "tags": []
   },
   "outputs": [],
   "source": [
    "import torch \n",
    "from transformers import AutoModelForCausalLM, AutoTokenizer, pipeline "
   ]
  },
  {
   "cell_type": "code",
   "execution_count": 10,
   "id": "293b8454-d915-4167-b957-9274ea5499b3",
   "metadata": {
    "execution": {
     "iopub.execute_input": "2024-07-04T03:33:47.125097Z",
     "iopub.status.busy": "2024-07-04T03:33:47.124435Z",
     "iopub.status.idle": "2024-07-04T03:33:47.131338Z",
     "shell.execute_reply": "2024-07-04T03:33:47.130682Z",
     "shell.execute_reply.started": "2024-07-04T03:33:47.125061Z"
    },
    "tags": []
   },
   "outputs": [
    {
     "data": {
      "text/plain": [
       "<torch._C.Generator at 0x7f7228f56570>"
      ]
     },
     "execution_count": 10,
     "metadata": {},
     "output_type": "execute_result"
    }
   ],
   "source": [
    "torch.random.manual_seed(0) "
   ]
  },
  {
   "cell_type": "code",
   "execution_count": 11,
   "id": "9e8ebe2d-88d5-4dab-88ea-1b4cb9fb75a9",
   "metadata": {
    "execution": {
     "iopub.execute_input": "2024-07-04T03:34:07.732064Z",
     "iopub.status.busy": "2024-07-04T03:34:07.731669Z",
     "iopub.status.idle": "2024-07-04T03:39:09.701787Z",
     "shell.execute_reply": "2024-07-04T03:39:09.701013Z",
     "shell.execute_reply.started": "2024-07-04T03:34:07.732039Z"
    },
    "tags": []
   },
   "outputs": [
    {
     "data": {
      "application/vnd.jupyter.widget-view+json": {
       "model_id": "3708f048a69140bf92a691943f15ed3f",
       "version_major": 2,
       "version_minor": 0
      },
      "text/plain": [
       "config.json:   0%|          | 0.00/571 [00:00<?, ?B/s]"
      ]
     },
     "metadata": {},
     "output_type": "display_data"
    },
    {
     "name": "stderr",
     "output_type": "stream",
     "text": [
      "The `load_in_4bit` and `load_in_8bit` arguments are deprecated and will be removed in the future versions. Please, pass a `BitsAndBytesConfig` object in `quantization_config` argument instead.\n"
     ]
    },
    {
     "data": {
      "application/vnd.jupyter.widget-view+json": {
       "model_id": "cc09d5fb4abc43f9b797e1c0b80da406",
       "version_major": 2,
       "version_minor": 0
      },
      "text/plain": [
       "model.safetensors.index.json:   0%|          | 0.00/25.1k [00:00<?, ?B/s]"
      ]
     },
     "metadata": {},
     "output_type": "display_data"
    },
    {
     "data": {
      "application/vnd.jupyter.widget-view+json": {
       "model_id": "f6016127d7424ae3942a7dffd97f4ab8",
       "version_major": 2,
       "version_minor": 0
      },
      "text/plain": [
       "Downloading shards:   0%|          | 0/2 [00:00<?, ?it/s]"
      ]
     },
     "metadata": {},
     "output_type": "display_data"
    },
    {
     "data": {
      "application/vnd.jupyter.widget-view+json": {
       "model_id": "f689c34c3e7b46f2adb0c4bc0386226f",
       "version_major": 2,
       "version_minor": 0
      },
      "text/plain": [
       "model-00001-of-00002.safetensors:   0%|          | 0.00/9.94G [00:00<?, ?B/s]"
      ]
     },
     "metadata": {},
     "output_type": "display_data"
    },
    {
     "data": {
      "application/vnd.jupyter.widget-view+json": {
       "model_id": "1cf665ba879449cd8aea8e42684f1fa6",
       "version_major": 2,
       "version_minor": 0
      },
      "text/plain": [
       "model-00002-of-00002.safetensors:   0%|          | 0.00/4.54G [00:00<?, ?B/s]"
      ]
     },
     "metadata": {},
     "output_type": "display_data"
    },
    {
     "data": {
      "application/vnd.jupyter.widget-view+json": {
       "model_id": "f7a37693b2c14044b68c8828834024bc",
       "version_major": 2,
       "version_minor": 0
      },
      "text/plain": [
       "Loading checkpoint shards:   0%|          | 0/2 [00:00<?, ?it/s]"
      ]
     },
     "metadata": {},
     "output_type": "display_data"
    },
    {
     "data": {
      "application/vnd.jupyter.widget-view+json": {
       "model_id": "f94725e123e74acd83c9db12d82974af",
       "version_major": 2,
       "version_minor": 0
      },
      "text/plain": [
       "generation_config.json:   0%|          | 0.00/116 [00:00<?, ?B/s]"
      ]
     },
     "metadata": {},
     "output_type": "display_data"
    }
   ],
   "source": [
    "model = AutoModelForCausalLM.from_pretrained(\"mistralai/Mistral-7B-v0.1\", device_map=\"auto\", load_in_4bit=True)"
   ]
  },
  {
   "cell_type": "code",
   "execution_count": 12,
   "id": "100fa211-f9bc-42bd-a282-f03d5ab60333",
   "metadata": {
    "execution": {
     "iopub.execute_input": "2024-07-04T03:39:09.703725Z",
     "iopub.status.busy": "2024-07-04T03:39:09.703306Z",
     "iopub.status.idle": "2024-07-04T03:39:10.570256Z",
     "shell.execute_reply": "2024-07-04T03:39:10.569599Z",
     "shell.execute_reply.started": "2024-07-04T03:39:09.703689Z"
    },
    "tags": []
   },
   "outputs": [
    {
     "data": {
      "application/vnd.jupyter.widget-view+json": {
       "model_id": "8070bd3355654f66b03950a55cd7db59",
       "version_major": 2,
       "version_minor": 0
      },
      "text/plain": [
       "tokenizer_config.json:   0%|          | 0.00/2.10k [00:00<?, ?B/s]"
      ]
     },
     "metadata": {},
     "output_type": "display_data"
    },
    {
     "data": {
      "application/vnd.jupyter.widget-view+json": {
       "model_id": "25f81c3fa05f4c30b8534f71e3eb83b8",
       "version_major": 2,
       "version_minor": 0
      },
      "text/plain": [
       "tokenizer.model:   0%|          | 0.00/493k [00:00<?, ?B/s]"
      ]
     },
     "metadata": {},
     "output_type": "display_data"
    },
    {
     "data": {
      "application/vnd.jupyter.widget-view+json": {
       "model_id": "e81241ed7ec74863bb230e921f718316",
       "version_major": 2,
       "version_minor": 0
      },
      "text/plain": [
       "tokenizer.json:   0%|          | 0.00/1.80M [00:00<?, ?B/s]"
      ]
     },
     "metadata": {},
     "output_type": "display_data"
    },
    {
     "data": {
      "application/vnd.jupyter.widget-view+json": {
       "model_id": "a554dbf1ad3243788326cd6a00ee6e8f",
       "version_major": 2,
       "version_minor": 0
      },
      "text/plain": [
       "special_tokens_map.json:   0%|          | 0.00/414 [00:00<?, ?B/s]"
      ]
     },
     "metadata": {},
     "output_type": "display_data"
    }
   ],
   "source": [
    "tokenizer = AutoTokenizer.from_pretrained(\"mistralai/Mistral-7B-v0.1\", padding_side=\"left\")"
   ]
  },
  {
   "cell_type": "code",
   "execution_count": 23,
   "id": "9a85bbc5-4191-4b71-8924-adddd21573c5",
   "metadata": {
    "execution": {
     "iopub.execute_input": "2024-07-04T03:55:11.948582Z",
     "iopub.status.busy": "2024-07-04T03:55:11.948191Z",
     "iopub.status.idle": "2024-07-04T03:55:11.953930Z",
     "shell.execute_reply": "2024-07-04T03:55:11.953227Z",
     "shell.execute_reply.started": "2024-07-04T03:55:11.948557Z"
    },
    "tags": []
   },
   "outputs": [],
   "source": [
    "def build_prompt(query, search_results):\n",
    "    prompt_template = \"\"\"\n",
    "QUESTION: {question}\n",
    "\n",
    "CONTEXT: \n",
    "{context}\n",
    "ANSWER: \n",
    "\"\"\".strip()\n",
    "\n",
    "    context = \"\"\n",
    "    \n",
    "    for doc in search_results:\n",
    "        context = context + f\"section: {doc['section']}\\nquestion: {doc['question']}\\nanswer: {doc['text']}\\n\\n\"\n",
    "    \n",
    "    prompt = prompt_template.format(question=query, context=context).strip()\n",
    "    return prompt\n",
    "\n",
    "def llm(prompt):\n",
    "    model_inputs = tokenizer(prompt, return_tensors=\"pt\").to(\"cuda\")\n",
    "    generated_ids = model.generate(**model_inputs, max_length=550)\n",
    "    response = tokenizer.batch_decode(generated_ids, skip_special_tokens=True)[0]\n",
    "    return response[len(prompt):].strip()"
   ]
  },
  {
   "cell_type": "code",
   "execution_count": 24,
   "id": "78e4b644-25ab-4816-9947-94ccc23426fb",
   "metadata": {
    "execution": {
     "iopub.execute_input": "2024-07-04T03:55:12.464649Z",
     "iopub.status.busy": "2024-07-04T03:55:12.464264Z",
     "iopub.status.idle": "2024-07-04T03:55:18.944187Z",
     "shell.execute_reply": "2024-07-04T03:55:18.943399Z",
     "shell.execute_reply.started": "2024-07-04T03:55:12.464623Z"
    },
    "tags": []
   },
   "outputs": [
    {
     "name": "stderr",
     "output_type": "stream",
     "text": [
      "Setting `pad_token_id` to `eos_token_id`:2 for open-end generation.\n"
     ]
    },
    {
     "data": {
      "text/plain": [
       "'Yes, you can still join the course.'"
      ]
     },
     "execution_count": 24,
     "metadata": {},
     "output_type": "execute_result"
    }
   ],
   "source": [
    "rag(\"I just discovered the course. Can I still join it?\")"
   ]
  },
  {
   "cell_type": "code",
   "execution_count": 25,
   "id": "7186e06c-484d-402e-9500-a552414e39c5",
   "metadata": {
    "execution": {
     "iopub.execute_input": "2024-07-04T03:55:18.945865Z",
     "iopub.status.busy": "2024-07-04T03:55:18.945528Z",
     "iopub.status.idle": "2024-07-04T03:55:18.949377Z",
     "shell.execute_reply": "2024-07-04T03:55:18.948746Z",
     "shell.execute_reply.started": "2024-07-04T03:55:18.945832Z"
    },
    "tags": []
   },
   "outputs": [
    {
     "name": "stdout",
     "output_type": "stream",
     "text": [
      "Yes, you can still join the course.\n"
     ]
    }
   ],
   "source": [
    "print(_)"
   ]
  },
  {
   "cell_type": "code",
   "execution_count": null,
   "id": "6b1e12e2-514a-411c-8097-a4c887176a01",
   "metadata": {},
   "outputs": [],
   "source": []
  }
 ],
 "metadata": {
  "kernelspec": {
   "display_name": "saturn (Python 3)",
   "language": "python",
   "name": "python3"
  },
  "language_info": {
   "codemirror_mode": {
    "name": "ipython",
    "version": 3
   },
   "file_extension": ".py",
   "mimetype": "text/x-python",
   "name": "python",
   "nbconvert_exporter": "python",
   "pygments_lexer": "ipython3",
   "version": "3.9.18"
  }
 },
 "nbformat": 4,
 "nbformat_minor": 5
}
