{
 "cells": [
  {
   "cell_type": "markdown",
   "id": "d658f909-e679-41e9-9c4e-e0241c719049",
   "metadata": {},
   "source": [
    "If you're not running in Saturn Cloud, you need to install these libraries:\n",
    "\n",
    "Make sure you use the latest versions\n",
    "\n",
    "```\n",
    "pip install -U transformers accelerate bitsandbytes\n",
    "```"
   ]
  },
  {
   "cell_type": "code",
   "execution_count": 1,
   "id": "b9f11412-8495-4459-9677-ff339c09c904",
   "metadata": {
    "execution": {
     "iopub.execute_input": "2024-07-02T05:42:01.041872Z",
     "iopub.status.busy": "2024-07-02T05:42:01.041483Z",
     "iopub.status.idle": "2024-07-02T05:42:01.660136Z",
     "shell.execute_reply": "2024-07-02T05:42:01.659434Z",
     "shell.execute_reply.started": "2024-07-02T05:42:01.041823Z"
    },
    "tags": []
   },
   "outputs": [
    {
     "name": "stdout",
     "output_type": "stream",
     "text": [
      "Filesystem      Size  Used Avail Use% Mounted on\n",
      "overlay         100G   36G   65G  36% /\n",
      "tmpfs            64M     0   64M   0% /dev\n",
      "tmpfs           7.7G     0  7.7G   0% /sys/fs/cgroup\n",
      "/dev/nvme0n1p1  100G   36G   65G  36% /run\n",
      "tmpfs            14G     0   14G   0% /dev/shm\n",
      "/dev/nvme2n1    2.0G  129M  1.8G   7% /home/jovyan\n",
      "tmpfs            14G  120K   14G   1% /home/jovyan/.saturn\n",
      "tmpfs            14G   12K   14G   1% /run/secrets/kubernetes.io/serviceaccount\n",
      "tmpfs           7.7G   12K  7.7G   1% /proc/driver/nvidia\n",
      "tmpfs           7.7G  3.3M  7.7G   1% /run/nvidia-persistenced/socket\n",
      "tmpfs           7.7G     0  7.7G   0% /proc/acpi\n",
      "tmpfs           7.7G     0  7.7G   0% /sys/firmware\n"
     ]
    }
   ],
   "source": [
    "!df -h"
   ]
  },
  {
   "cell_type": "code",
   "execution_count": 2,
   "id": "742191ce-b50d-4547-bcdf-5e922632b7ad",
   "metadata": {
    "execution": {
     "iopub.execute_input": "2024-07-02T05:42:11.267704Z",
     "iopub.status.busy": "2024-07-02T05:42:11.267320Z",
     "iopub.status.idle": "2024-07-02T05:42:11.271529Z",
     "shell.execute_reply": "2024-07-02T05:42:11.270707Z",
     "shell.execute_reply.started": "2024-07-02T05:42:11.267675Z"
    },
    "tags": []
   },
   "outputs": [],
   "source": [
    "import os"
   ]
  },
  {
   "cell_type": "code",
   "execution_count": 3,
   "id": "8593e5f1-756f-465c-95ec-d391d450e3ba",
   "metadata": {
    "execution": {
     "iopub.execute_input": "2024-07-02T05:42:38.754356Z",
     "iopub.status.busy": "2024-07-02T05:42:38.753968Z",
     "iopub.status.idle": "2024-07-02T05:42:38.757755Z",
     "shell.execute_reply": "2024-07-02T05:42:38.757062Z",
     "shell.execute_reply.started": "2024-07-02T05:42:38.754331Z"
    },
    "tags": []
   },
   "outputs": [],
   "source": [
    "os.environ['HF_HOME'] = '/run/cache'"
   ]
  },
  {
   "cell_type": "code",
   "execution_count": 4,
   "id": "2cbafd67-6972-4e8c-a93a-25118a8aae63",
   "metadata": {
    "execution": {
     "iopub.execute_input": "2024-07-02T05:43:05.992082Z",
     "iopub.status.busy": "2024-07-02T05:43:05.991696Z",
     "iopub.status.idle": "2024-07-02T05:43:05.999172Z",
     "shell.execute_reply": "2024-07-02T05:43:05.998370Z",
     "shell.execute_reply.started": "2024-07-02T05:43:05.992057Z"
    },
    "tags": []
   },
   "outputs": [
    {
     "data": {
      "text/plain": [
       "'/run/cache'"
      ]
     },
     "execution_count": 4,
     "metadata": {},
     "output_type": "execute_result"
    }
   ],
   "source": [
    "os.getenv('HF_HOME')"
   ]
  },
  {
   "cell_type": "code",
   "execution_count": 20,
   "id": "506fab2a-a50c-42bd-a106-c83a9d2828ea",
   "metadata": {
    "execution": {
     "iopub.execute_input": "2024-07-02T06:12:56.509998Z",
     "iopub.status.busy": "2024-07-02T06:12:56.509556Z",
     "iopub.status.idle": "2024-07-02T06:12:57.828027Z",
     "shell.execute_reply": "2024-07-02T06:12:57.827242Z",
     "shell.execute_reply.started": "2024-07-02T06:12:56.509967Z"
    },
    "tags": []
   },
   "outputs": [
    {
     "name": "stdout",
     "output_type": "stream",
     "text": [
      "--2024-07-02 06:12:57--  https://raw.githubusercontent.com/alexeygrigorev/minsearch/main/minsearch.py\n",
      "Resolving raw.githubusercontent.com (raw.githubusercontent.com)... 185.199.108.133, 185.199.109.133, 185.199.110.133, ...\n",
      "Connecting to raw.githubusercontent.com (raw.githubusercontent.com)|185.199.108.133|:443... connected.\n",
      "HTTP request sent, awaiting response... 200 OK\n",
      "Length: 3832 (3.7K) [text/plain]\n",
      "Saving to: ‘minsearch.py’\n",
      "\n",
      "minsearch.py        100%[===================>]   3.74K  --.-KB/s    in 0s      \n",
      "\n",
      "2024-07-02 06:12:57 (76.5 MB/s) - ‘minsearch.py’ saved [3832/3832]\n",
      "\n"
     ]
    }
   ],
   "source": [
    "!rm -f minsearch.py\n",
    "!wget https://raw.githubusercontent.com/alexeygrigorev/minsearch/main/minsearch.py"
   ]
  },
  {
   "cell_type": "code",
   "execution_count": 21,
   "id": "3ac947de-effd-4b61-8792-a6d7a133f347",
   "metadata": {
    "execution": {
     "iopub.execute_input": "2024-07-02T06:12:57.830443Z",
     "iopub.status.busy": "2024-07-02T06:12:57.830004Z",
     "iopub.status.idle": "2024-07-02T06:13:01.681297Z",
     "shell.execute_reply": "2024-07-02T06:13:01.680486Z",
     "shell.execute_reply.started": "2024-07-02T06:12:57.830402Z"
    },
    "tags": []
   },
   "outputs": [
    {
     "data": {
      "text/plain": [
       "<minsearch.Index at 0x7fdd1828bf40>"
      ]
     },
     "execution_count": 21,
     "metadata": {},
     "output_type": "execute_result"
    }
   ],
   "source": [
    "import requests \n",
    "import minsearch\n",
    "\n",
    "docs_url = 'https://github.com/DataTalksClub/llm-zoomcamp/blob/main/01-intro/documents.json?raw=1'\n",
    "docs_response = requests.get(docs_url)\n",
    "documents_raw = docs_response.json()\n",
    "\n",
    "documents = []\n",
    "\n",
    "for course in documents_raw:\n",
    "    course_name = course['course']\n",
    "\n",
    "    for doc in course['documents']:\n",
    "        doc['course'] = course_name\n",
    "        documents.append(doc)\n",
    "\n",
    "index = minsearch.Index(\n",
    "    text_fields=[\"question\", \"text\", \"section\"],\n",
    "    keyword_fields=[\"course\"]\n",
    ")\n",
    "\n",
    "index.fit(documents)"
   ]
  },
  {
   "cell_type": "code",
   "execution_count": 22,
   "id": "8f087272-b44d-4738-9ea2-175ec63a058b",
   "metadata": {
    "execution": {
     "iopub.execute_input": "2024-07-02T06:13:01.683712Z",
     "iopub.status.busy": "2024-07-02T06:13:01.682969Z",
     "iopub.status.idle": "2024-07-02T06:13:01.687957Z",
     "shell.execute_reply": "2024-07-02T06:13:01.687246Z",
     "shell.execute_reply.started": "2024-07-02T06:13:01.683675Z"
    },
    "tags": []
   },
   "outputs": [],
   "source": [
    "def search(query):\n",
    "    boost = {'question': 3.0, 'section': 0.5}\n",
    "\n",
    "    results = index.search(\n",
    "        query=query,\n",
    "        filter_dict={'course': 'data-engineering-zoomcamp'},\n",
    "        boost_dict=boost,\n",
    "        num_results=5\n",
    "    )\n",
    "\n",
    "    return results"
   ]
  },
  {
   "cell_type": "code",
   "execution_count": 23,
   "id": "fe8bff3e-b672-42be-866b-f2d9bb217106",
   "metadata": {
    "execution": {
     "iopub.execute_input": "2024-07-02T06:13:11.288178Z",
     "iopub.status.busy": "2024-07-02T06:13:11.287794Z",
     "iopub.status.idle": "2024-07-02T06:13:11.291888Z",
     "shell.execute_reply": "2024-07-02T06:13:11.291205Z",
     "shell.execute_reply.started": "2024-07-02T06:13:11.288154Z"
    },
    "tags": []
   },
   "outputs": [],
   "source": [
    "def rag(query):\n",
    "    search_results = search(query)\n",
    "    prompt = build_prompt(query, search_results)\n",
    "    answer = llm(prompt)\n",
    "    return answer"
   ]
  },
  {
   "cell_type": "code",
   "execution_count": 5,
   "id": "091a77e6-936b-448e-a04b-bad1001f5bb0",
   "metadata": {
    "execution": {
     "iopub.execute_input": "2024-07-02T05:43:58.056674Z",
     "iopub.status.busy": "2024-07-02T05:43:58.056295Z",
     "iopub.status.idle": "2024-07-02T05:44:03.966981Z",
     "shell.execute_reply": "2024-07-02T05:44:03.966360Z",
     "shell.execute_reply.started": "2024-07-02T05:43:58.056649Z"
    },
    "tags": []
   },
   "outputs": [],
   "source": [
    "# pip install accelerate\n",
    "from transformers import T5Tokenizer, T5ForConditionalGeneration"
   ]
  },
  {
   "cell_type": "code",
   "execution_count": 13,
   "id": "21aa255e-c971-44ca-9826-a721df3ad063",
   "metadata": {
    "execution": {
     "iopub.execute_input": "2024-07-02T05:48:59.157522Z",
     "iopub.status.busy": "2024-07-02T05:48:59.157063Z",
     "iopub.status.idle": "2024-07-02T05:49:00.483785Z",
     "shell.execute_reply": "2024-07-02T05:49:00.482988Z",
     "shell.execute_reply.started": "2024-07-02T05:48:59.157487Z"
    },
    "tags": []
   },
   "outputs": [
    {
     "name": "stderr",
     "output_type": "stream",
     "text": [
      "Special tokens have been added in the vocabulary, make sure the associated word embeddings are fine-tuned or trained.\n"
     ]
    },
    {
     "data": {
      "application/vnd.jupyter.widget-view+json": {
       "model_id": "106f1ff5ad0549e1a0b4ff6abd364480",
       "version_major": 2,
       "version_minor": 0
      },
      "text/plain": [
       "Loading checkpoint shards:   0%|          | 0/2 [00:00<?, ?it/s]"
      ]
     },
     "metadata": {},
     "output_type": "display_data"
    },
    {
     "name": "stderr",
     "output_type": "stream",
     "text": [
      "WARNING:root:Some parameters are on the meta device device because they were offloaded to the cpu.\n"
     ]
    }
   ],
   "source": [
    "tokenizer = T5Tokenizer.from_pretrained(\"google/flan-t5-xl\")\n",
    "model = T5ForConditionalGeneration.from_pretrained(\"google/flan-t5-xl\", device_map=\"auto\")"
   ]
  },
  {
   "cell_type": "code",
   "execution_count": 14,
   "id": "4375216d-0c81-4f93-8580-31cd1f8d5125",
   "metadata": {
    "execution": {
     "iopub.execute_input": "2024-07-02T05:49:01.499691Z",
     "iopub.status.busy": "2024-07-02T05:49:01.499310Z",
     "iopub.status.idle": "2024-07-02T05:49:02.122336Z",
     "shell.execute_reply": "2024-07-02T05:49:02.121443Z",
     "shell.execute_reply.started": "2024-07-02T05:49:01.499666Z"
    },
    "tags": []
   },
   "outputs": [
    {
     "name": "stdout",
     "output_type": "stream",
     "text": [
      "Filesystem      Size  Used Avail Use% Mounted on\n",
      "overlay         100G   47G   54G  47% /\n",
      "tmpfs            64M     0   64M   0% /dev\n",
      "tmpfs           7.7G     0  7.7G   0% /sys/fs/cgroup\n",
      "/dev/nvme0n1p1  100G   47G   54G  47% /run\n",
      "tmpfs            14G  4.0K   14G   1% /dev/shm\n",
      "/dev/nvme2n1    2.0G  130M  1.8G   7% /home/jovyan\n",
      "tmpfs            14G  120K   14G   1% /home/jovyan/.saturn\n",
      "tmpfs            14G   12K   14G   1% /run/secrets/kubernetes.io/serviceaccount\n",
      "tmpfs           7.7G   12K  7.7G   1% /proc/driver/nvidia\n",
      "tmpfs           7.7G  3.6M  7.7G   1% /run/nvidia-persistenced/socket\n",
      "tmpfs           7.7G     0  7.7G   0% /proc/acpi\n",
      "tmpfs           7.7G     0  7.7G   0% /sys/firmware\n"
     ]
    }
   ],
   "source": [
    "!df -h"
   ]
  },
  {
   "cell_type": "code",
   "execution_count": 15,
   "id": "bf142c75-564c-4593-bfdf-ad742ce58f3f",
   "metadata": {
    "execution": {
     "iopub.execute_input": "2024-07-02T05:49:02.124344Z",
     "iopub.status.busy": "2024-07-02T05:49:02.124024Z",
     "iopub.status.idle": "2024-07-02T05:49:02.135885Z",
     "shell.execute_reply": "2024-07-02T05:49:02.135265Z",
     "shell.execute_reply.started": "2024-07-02T05:49:02.124317Z"
    },
    "tags": []
   },
   "outputs": [
    {
     "data": {
      "text/plain": [
       "tensor([[13959,  1566,    12,  2968,    10,   571,   625,    33,    25,    58,\n",
       "             1]], device='cuda:0')"
      ]
     },
     "execution_count": 15,
     "metadata": {},
     "output_type": "execute_result"
    }
   ],
   "source": [
    "input_text = \"translate English to German: How old are you?\"\n",
    "input_ids = tokenizer(input_text, return_tensors=\"pt\").input_ids.to(\"cuda\")\n",
    "input_ids"
   ]
  },
  {
   "cell_type": "code",
   "execution_count": 16,
   "id": "26164dd8-f6ba-48cc-a7eb-0908cadc5c22",
   "metadata": {
    "execution": {
     "iopub.execute_input": "2024-07-02T05:49:08.730302Z",
     "iopub.status.busy": "2024-07-02T05:49:08.729890Z",
     "iopub.status.idle": "2024-07-02T05:49:19.735368Z",
     "shell.execute_reply": "2024-07-02T05:49:19.734590Z",
     "shell.execute_reply.started": "2024-07-02T05:49:08.730274Z"
    },
    "tags": []
   },
   "outputs": [
    {
     "name": "stderr",
     "output_type": "stream",
     "text": [
      "/opt/saturncloud/envs/saturn/lib/python3.9/site-packages/transformers/generation/utils.py:1249: UserWarning: Using the model-agnostic default `max_length` (=20) to control the generation length. We recommend setting `max_new_tokens` to control the maximum length of the generation.\n",
      "  warnings.warn(\n"
     ]
    },
    {
     "name": "stdout",
     "output_type": "stream",
     "text": [
      "<pad> Wie alt sind Sie?</s>\n"
     ]
    }
   ],
   "source": [
    "outputs = model.generate(input_ids)\n",
    "print(tokenizer.decode(outputs[0]))"
   ]
  },
  {
   "cell_type": "code",
   "execution_count": 17,
   "id": "2f979ace-e1f4-4bc9-9f9a-141f5596b1c3",
   "metadata": {
    "execution": {
     "iopub.execute_input": "2024-07-02T06:09:26.577793Z",
     "iopub.status.busy": "2024-07-02T06:09:26.577411Z",
     "iopub.status.idle": "2024-07-02T06:09:26.582334Z",
     "shell.execute_reply": "2024-07-02T06:09:26.581610Z",
     "shell.execute_reply.started": "2024-07-02T06:09:26.577764Z"
    },
    "tags": []
   },
   "outputs": [],
   "source": [
    "results = tokenizer.decode(outputs[0])"
   ]
  },
  {
   "cell_type": "code",
   "execution_count": 27,
   "id": "9a85bbc5-4191-4b71-8924-adddd21573c5",
   "metadata": {
    "execution": {
     "iopub.execute_input": "2024-07-02T06:17:22.753108Z",
     "iopub.status.busy": "2024-07-02T06:17:22.752717Z",
     "iopub.status.idle": "2024-07-02T06:17:22.758495Z",
     "shell.execute_reply": "2024-07-02T06:17:22.757718Z",
     "shell.execute_reply.started": "2024-07-02T06:17:22.753081Z"
    },
    "tags": []
   },
   "outputs": [],
   "source": [
    "def build_prompt(query, search_results):\n",
    "    prompt_template = \"\"\"\n",
    "You're a course teaching assistant. Answer the QUESTION based on the CONTEXT from the FAQ database.\n",
    "Use only the facts from the CONTEXT when answering the QUESTION.\n",
    "\n",
    "QUESTION: {question}\n",
    "\n",
    "CONTEXT: \n",
    "{context}\n",
    "\"\"\".strip()\n",
    "\n",
    "    context = \"\"\n",
    "    \n",
    "    for doc in search_results:\n",
    "        context = context + f\"section: {doc['section']}\\nquestion: {doc['question']}\\nanswer: {doc['text']}\\n\\n\"\n",
    "    \n",
    "    prompt = prompt_template.format(question=query, context=context).strip()\n",
    "    return prompt\n",
    "\n",
    "def llm(prompt):\n",
    "    input_ids = tokenizer(prompt, return_tensors=\"pt\").input_ids.to(\"cuda\")\n",
    "    outputs = model.generate(input_ids, max_new_tokens=50)\n",
    "    results = tokenizer.decode(outputs[0])\n",
    "    return results"
   ]
  },
  {
   "cell_type": "code",
   "execution_count": 28,
   "id": "78e4b644-25ab-4816-9947-94ccc23426fb",
   "metadata": {
    "execution": {
     "iopub.execute_input": "2024-07-02T06:17:23.871131Z",
     "iopub.status.busy": "2024-07-02T06:17:23.870754Z",
     "iopub.status.idle": "2024-07-02T06:18:32.361065Z",
     "shell.execute_reply": "2024-07-02T06:18:32.360269Z",
     "shell.execute_reply.started": "2024-07-02T06:17:23.871103Z"
    },
    "tags": []
   },
   "outputs": [
    {
     "data": {
      "text/plain": [
       "\"<pad>Yes, even if you don't register, you're still eligible to submit the homeworks. Be aware, however, that there will be deadlines for turning in the final projects. So don't leave everything for the last minute\""
      ]
     },
     "execution_count": 28,
     "metadata": {},
     "output_type": "execute_result"
    }
   ],
   "source": [
    "rag(\"I just discovered the course. Can I still join it?\")"
   ]
  },
  {
   "cell_type": "code",
   "execution_count": null,
   "id": "7186e06c-484d-402e-9500-a552414e39c5",
   "metadata": {},
   "outputs": [],
   "source": []
  }
 ],
 "metadata": {
  "kernelspec": {
   "display_name": "saturn (Python 3)",
   "language": "python",
   "name": "python3"
  },
  "language_info": {
   "codemirror_mode": {
    "name": "ipython",
    "version": 3
   },
   "file_extension": ".py",
   "mimetype": "text/x-python",
   "name": "python",
   "nbconvert_exporter": "python",
   "pygments_lexer": "ipython3",
   "version": "3.9.18"
  }
 },
 "nbformat": 4,
 "nbformat_minor": 5
}
