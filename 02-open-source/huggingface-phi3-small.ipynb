{
 "cells": [
  {
   "cell_type": "markdown",
   "id": "d658f909-e679-41e9-9c4e-e0241c719049",
   "metadata": {},
   "source": [
    "If you're not running in Saturn Cloud, you need to install these libraries:\n",
    "\n",
    "Make sure you use the latest versions\n",
    "\n",
    "```\n",
    "pip install -U transformers accelerate bitsandbytes\n",
    "```"
   ]
  },
  {
   "cell_type": "code",
   "execution_count": 1,
   "id": "b9f11412-8495-4459-9677-ff339c09c904",
   "metadata": {
    "execution": {
     "iopub.execute_input": "2024-07-04T01:16:09.651060Z",
     "iopub.status.busy": "2024-07-04T01:16:09.650681Z",
     "iopub.status.idle": "2024-07-04T01:16:10.267632Z",
     "shell.execute_reply": "2024-07-04T01:16:10.266844Z",
     "shell.execute_reply.started": "2024-07-04T01:16:09.651035Z"
    },
    "tags": []
   },
   "outputs": [
    {
     "name": "stdout",
     "output_type": "stream",
     "text": [
      "Filesystem      Size  Used Avail Use% Mounted on\n",
      "overlay         100G   45G   56G  45% /\n",
      "tmpfs            64M     0   64M   0% /dev\n",
      "tmpfs           7.7G     0  7.7G   0% /sys/fs/cgroup\n",
      "/dev/nvme0n1p1  100G   45G   56G  45% /run\n",
      "tmpfs            14G     0   14G   0% /dev/shm\n",
      "/dev/nvme2n1    2.0G  140M  1.8G   8% /home/jovyan\n",
      "tmpfs            14G  120K   14G   1% /home/jovyan/.saturn\n",
      "tmpfs            14G   12K   14G   1% /run/secrets/kubernetes.io/serviceaccount\n",
      "tmpfs           7.7G   12K  7.7G   1% /proc/driver/nvidia\n",
      "tmpfs           7.7G  3.6M  7.7G   1% /run/nvidia-persistenced/socket\n",
      "tmpfs           7.7G     0  7.7G   0% /proc/acpi\n",
      "tmpfs           7.7G     0  7.7G   0% /sys/firmware\n"
     ]
    }
   ],
   "source": [
    "!df -h"
   ]
  },
  {
   "cell_type": "code",
   "execution_count": 2,
   "id": "742191ce-b50d-4547-bcdf-5e922632b7ad",
   "metadata": {
    "execution": {
     "iopub.execute_input": "2024-07-04T01:16:10.339278Z",
     "iopub.status.busy": "2024-07-04T01:16:10.338903Z",
     "iopub.status.idle": "2024-07-04T01:16:10.342991Z",
     "shell.execute_reply": "2024-07-04T01:16:10.342326Z",
     "shell.execute_reply.started": "2024-07-04T01:16:10.339248Z"
    },
    "tags": []
   },
   "outputs": [],
   "source": [
    "import os"
   ]
  },
  {
   "cell_type": "code",
   "execution_count": 3,
   "id": "8593e5f1-756f-465c-95ec-d391d450e3ba",
   "metadata": {
    "execution": {
     "iopub.execute_input": "2024-07-04T01:16:11.405865Z",
     "iopub.status.busy": "2024-07-04T01:16:11.405489Z",
     "iopub.status.idle": "2024-07-04T01:16:11.411032Z",
     "shell.execute_reply": "2024-07-04T01:16:11.410127Z",
     "shell.execute_reply.started": "2024-07-04T01:16:11.405841Z"
    },
    "tags": []
   },
   "outputs": [],
   "source": [
    "os.environ['HF_HOME'] = '/run/cache'"
   ]
  },
  {
   "cell_type": "code",
   "execution_count": 4,
   "id": "2cbafd67-6972-4e8c-a93a-25118a8aae63",
   "metadata": {
    "execution": {
     "iopub.execute_input": "2024-07-04T01:16:12.297843Z",
     "iopub.status.busy": "2024-07-04T01:16:12.297484Z",
     "iopub.status.idle": "2024-07-04T01:16:12.304781Z",
     "shell.execute_reply": "2024-07-04T01:16:12.304120Z",
     "shell.execute_reply.started": "2024-07-04T01:16:12.297818Z"
    },
    "tags": []
   },
   "outputs": [
    {
     "data": {
      "text/plain": [
       "'/run/cache'"
      ]
     },
     "execution_count": 4,
     "metadata": {},
     "output_type": "execute_result"
    }
   ],
   "source": [
    "os.getenv('HF_HOME')"
   ]
  },
  {
   "cell_type": "code",
   "execution_count": 5,
   "id": "506fab2a-a50c-42bd-a106-c83a9d2828ea",
   "metadata": {
    "execution": {
     "iopub.execute_input": "2024-07-04T01:16:18.451604Z",
     "iopub.status.busy": "2024-07-04T01:16:18.451226Z",
     "iopub.status.idle": "2024-07-04T01:16:19.800242Z",
     "shell.execute_reply": "2024-07-04T01:16:19.799281Z",
     "shell.execute_reply.started": "2024-07-04T01:16:18.451578Z"
    },
    "tags": []
   },
   "outputs": [
    {
     "name": "stdout",
     "output_type": "stream",
     "text": [
      "--2024-07-04 01:16:19--  https://raw.githubusercontent.com/alexeygrigorev/minsearch/main/minsearch.py\n",
      "Resolving raw.githubusercontent.com (raw.githubusercontent.com)... 185.199.109.133, 185.199.111.133, 185.199.108.133, ...\n",
      "Connecting to raw.githubusercontent.com (raw.githubusercontent.com)|185.199.109.133|:443... connected.\n",
      "HTTP request sent, awaiting response... 200 OK\n",
      "Length: 3832 (3.7K) [text/plain]\n",
      "Saving to: ‘minsearch.py’\n",
      "\n",
      "minsearch.py        100%[===================>]   3.74K  --.-KB/s    in 0s      \n",
      "\n",
      "2024-07-04 01:16:19 (61.4 MB/s) - ‘minsearch.py’ saved [3832/3832]\n",
      "\n"
     ]
    }
   ],
   "source": [
    "!rm -f minsearch.py\n",
    "!wget https://raw.githubusercontent.com/alexeygrigorev/minsearch/main/minsearch.py"
   ]
  },
  {
   "cell_type": "code",
   "execution_count": 6,
   "id": "3ac947de-effd-4b61-8792-a6d7a133f347",
   "metadata": {
    "execution": {
     "iopub.execute_input": "2024-07-04T01:16:19.802909Z",
     "iopub.status.busy": "2024-07-04T01:16:19.802457Z",
     "iopub.status.idle": "2024-07-04T01:16:23.131379Z",
     "shell.execute_reply": "2024-07-04T01:16:23.130530Z",
     "shell.execute_reply.started": "2024-07-04T01:16:19.802870Z"
    },
    "tags": []
   },
   "outputs": [
    {
     "data": {
      "text/plain": [
       "<minsearch.Index at 0x7fcc3c4cb940>"
      ]
     },
     "execution_count": 6,
     "metadata": {},
     "output_type": "execute_result"
    }
   ],
   "source": [
    "import requests \n",
    "import minsearch\n",
    "\n",
    "docs_url = 'https://github.com/DataTalksClub/llm-zoomcamp/blob/main/01-intro/documents.json?raw=1'\n",
    "docs_response = requests.get(docs_url)\n",
    "documents_raw = docs_response.json()\n",
    "\n",
    "documents = []\n",
    "\n",
    "for course in documents_raw:\n",
    "    course_name = course['course']\n",
    "\n",
    "    for doc in course['documents']:\n",
    "        doc['course'] = course_name\n",
    "        documents.append(doc)\n",
    "\n",
    "index = minsearch.Index(\n",
    "    text_fields=[\"question\", \"text\", \"section\"],\n",
    "    keyword_fields=[\"course\"]\n",
    ")\n",
    "\n",
    "index.fit(documents)"
   ]
  },
  {
   "cell_type": "code",
   "execution_count": 7,
   "id": "8f087272-b44d-4738-9ea2-175ec63a058b",
   "metadata": {
    "execution": {
     "iopub.execute_input": "2024-07-04T01:16:23.133031Z",
     "iopub.status.busy": "2024-07-04T01:16:23.132614Z",
     "iopub.status.idle": "2024-07-04T01:16:23.137633Z",
     "shell.execute_reply": "2024-07-04T01:16:23.136715Z",
     "shell.execute_reply.started": "2024-07-04T01:16:23.132989Z"
    },
    "tags": []
   },
   "outputs": [],
   "source": [
    "def search(query):\n",
    "    boost = {'question': 3.0, 'section': 0.5}\n",
    "\n",
    "    results = index.search(\n",
    "        query=query,\n",
    "        filter_dict={'course': 'data-engineering-zoomcamp'},\n",
    "        boost_dict=boost,\n",
    "        num_results=5\n",
    "    )\n",
    "\n",
    "    return results"
   ]
  },
  {
   "cell_type": "code",
   "execution_count": 8,
   "id": "fe8bff3e-b672-42be-866b-f2d9bb217106",
   "metadata": {
    "execution": {
     "iopub.execute_input": "2024-07-04T01:16:23.139378Z",
     "iopub.status.busy": "2024-07-04T01:16:23.138915Z",
     "iopub.status.idle": "2024-07-04T01:16:23.144043Z",
     "shell.execute_reply": "2024-07-04T01:16:23.143240Z",
     "shell.execute_reply.started": "2024-07-04T01:16:23.139338Z"
    },
    "tags": []
   },
   "outputs": [],
   "source": [
    "def rag(query):\n",
    "    search_results = search(query)\n",
    "    prompt = build_prompt(query, search_results)\n",
    "    answer = llm(prompt)\n",
    "    return answer"
   ]
  },
  {
   "cell_type": "code",
   "execution_count": 9,
   "id": "091df3fe-f945-4692-8c1b-ee70e2275e74",
   "metadata": {
    "execution": {
     "iopub.execute_input": "2024-07-04T01:16:55.850847Z",
     "iopub.status.busy": "2024-07-04T01:16:55.850465Z",
     "iopub.status.idle": "2024-07-04T01:17:01.427655Z",
     "shell.execute_reply": "2024-07-04T01:17:01.426966Z",
     "shell.execute_reply.started": "2024-07-04T01:16:55.850824Z"
    },
    "tags": []
   },
   "outputs": [],
   "source": [
    "import torch \n",
    "from transformers import AutoModelForCausalLM, AutoTokenizer, pipeline "
   ]
  },
  {
   "cell_type": "code",
   "execution_count": 10,
   "id": "293b8454-d915-4167-b957-9274ea5499b3",
   "metadata": {
    "execution": {
     "iopub.execute_input": "2024-07-04T01:17:50.172257Z",
     "iopub.status.busy": "2024-07-04T01:17:50.171745Z",
     "iopub.status.idle": "2024-07-04T01:17:50.178396Z",
     "shell.execute_reply": "2024-07-04T01:17:50.177564Z",
     "shell.execute_reply.started": "2024-07-04T01:17:50.172230Z"
    },
    "tags": []
   },
   "outputs": [
    {
     "data": {
      "text/plain": [
       "<torch._C.Generator at 0x7fcbf0d74a30>"
      ]
     },
     "execution_count": 10,
     "metadata": {},
     "output_type": "execute_result"
    }
   ],
   "source": [
    "torch.random.manual_seed(0) "
   ]
  },
  {
   "cell_type": "code",
   "execution_count": 11,
   "id": "9e8ebe2d-88d5-4dab-88ea-1b4cb9fb75a9",
   "metadata": {
    "execution": {
     "iopub.execute_input": "2024-07-04T01:18:15.473064Z",
     "iopub.status.busy": "2024-07-04T01:18:15.472642Z",
     "iopub.status.idle": "2024-07-04T01:19:45.385019Z",
     "shell.execute_reply": "2024-07-04T01:19:45.384191Z",
     "shell.execute_reply.started": "2024-07-04T01:18:15.473036Z"
    },
    "tags": []
   },
   "outputs": [
    {
     "data": {
      "application/vnd.jupyter.widget-view+json": {
       "model_id": "91679dd270444b0ba1cc10b96141d1ac",
       "version_major": 2,
       "version_minor": 0
      },
      "text/plain": [
       "config.json:   0%|          | 0.00/3.48k [00:00<?, ?B/s]"
      ]
     },
     "metadata": {},
     "output_type": "display_data"
    },
    {
     "data": {
      "application/vnd.jupyter.widget-view+json": {
       "model_id": "ec6982d01044426fb3a8f877eb68deae",
       "version_major": 2,
       "version_minor": 0
      },
      "text/plain": [
       "configuration_phi3.py:   0%|          | 0.00/11.2k [00:00<?, ?B/s]"
      ]
     },
     "metadata": {},
     "output_type": "display_data"
    },
    {
     "name": "stderr",
     "output_type": "stream",
     "text": [
      "A new version of the following files was downloaded from https://huggingface.co/microsoft/Phi-3-mini-128k-instruct:\n",
      "- configuration_phi3.py\n",
      ". Make sure to double-check they do not contain any added malicious code. To avoid downloading new versions of the code file, you can pin a revision.\n"
     ]
    },
    {
     "data": {
      "application/vnd.jupyter.widget-view+json": {
       "model_id": "0c2a69be8ba74e8881fca71fbfe9b096",
       "version_major": 2,
       "version_minor": 0
      },
      "text/plain": [
       "modeling_phi3.py:   0%|          | 0.00/73.2k [00:00<?, ?B/s]"
      ]
     },
     "metadata": {},
     "output_type": "display_data"
    },
    {
     "name": "stderr",
     "output_type": "stream",
     "text": [
      "A new version of the following files was downloaded from https://huggingface.co/microsoft/Phi-3-mini-128k-instruct:\n",
      "- modeling_phi3.py\n",
      ". Make sure to double-check they do not contain any added malicious code. To avoid downloading new versions of the code file, you can pin a revision.\n",
      "`flash-attention` package not found, consider installing for better performance: No module named 'flash_attn'.\n",
      "Current `flash-attention` does not support `window_size`. Either upgrade or use `attn_implementation='eager'`.\n"
     ]
    },
    {
     "data": {
      "application/vnd.jupyter.widget-view+json": {
       "model_id": "dda67591b2ed4bd5a9da061282701924",
       "version_major": 2,
       "version_minor": 0
      },
      "text/plain": [
       "model.safetensors.index.json:   0%|          | 0.00/16.3k [00:00<?, ?B/s]"
      ]
     },
     "metadata": {},
     "output_type": "display_data"
    },
    {
     "data": {
      "application/vnd.jupyter.widget-view+json": {
       "model_id": "13c3924c551044198f916e5a63eaa265",
       "version_major": 2,
       "version_minor": 0
      },
      "text/plain": [
       "Downloading shards:   0%|          | 0/2 [00:00<?, ?it/s]"
      ]
     },
     "metadata": {},
     "output_type": "display_data"
    },
    {
     "data": {
      "application/vnd.jupyter.widget-view+json": {
       "model_id": "5c828e7a3a6248e1bc991f4d8363553e",
       "version_major": 2,
       "version_minor": 0
      },
      "text/plain": [
       "model-00001-of-00002.safetensors:   0%|          | 0.00/4.97G [00:00<?, ?B/s]"
      ]
     },
     "metadata": {},
     "output_type": "display_data"
    },
    {
     "data": {
      "application/vnd.jupyter.widget-view+json": {
       "model_id": "bb27e0eb602c4f23a7bd8c0f3f5ac868",
       "version_major": 2,
       "version_minor": 0
      },
      "text/plain": [
       "model-00002-of-00002.safetensors:   0%|          | 0.00/2.67G [00:00<?, ?B/s]"
      ]
     },
     "metadata": {},
     "output_type": "display_data"
    },
    {
     "data": {
      "application/vnd.jupyter.widget-view+json": {
       "model_id": "3ea679a9f36f4b779b17e9ad566aa4fa",
       "version_major": 2,
       "version_minor": 0
      },
      "text/plain": [
       "Loading checkpoint shards:   0%|          | 0/2 [00:00<?, ?it/s]"
      ]
     },
     "metadata": {},
     "output_type": "display_data"
    },
    {
     "data": {
      "application/vnd.jupyter.widget-view+json": {
       "model_id": "71834f58a1f14a55b093b9331bb8077c",
       "version_major": 2,
       "version_minor": 0
      },
      "text/plain": [
       "generation_config.json:   0%|          | 0.00/181 [00:00<?, ?B/s]"
      ]
     },
     "metadata": {},
     "output_type": "display_data"
    }
   ],
   "source": [
    "model = AutoModelForCausalLM.from_pretrained( \n",
    "    \"microsoft/Phi-3-mini-128k-instruct\",  \n",
    "    device_map=\"cuda\",  \n",
    "    torch_dtype=\"auto\",  \n",
    "    trust_remote_code=True,  \n",
    ") "
   ]
  },
  {
   "cell_type": "code",
   "execution_count": 12,
   "id": "100fa211-f9bc-42bd-a282-f03d5ab60333",
   "metadata": {
    "execution": {
     "iopub.execute_input": "2024-07-04T01:19:45.386491Z",
     "iopub.status.busy": "2024-07-04T01:19:45.386186Z",
     "iopub.status.idle": "2024-07-04T01:19:46.053621Z",
     "shell.execute_reply": "2024-07-04T01:19:46.052889Z",
     "shell.execute_reply.started": "2024-07-04T01:19:45.386470Z"
    },
    "tags": []
   },
   "outputs": [
    {
     "data": {
      "application/vnd.jupyter.widget-view+json": {
       "model_id": "f92e7867c5c549d6946aaf23e35e54ed",
       "version_major": 2,
       "version_minor": 0
      },
      "text/plain": [
       "tokenizer_config.json:   0%|          | 0.00/3.44k [00:00<?, ?B/s]"
      ]
     },
     "metadata": {},
     "output_type": "display_data"
    },
    {
     "data": {
      "application/vnd.jupyter.widget-view+json": {
       "model_id": "6a5af08eeb5a4141b7a5ad9b95ec9d20",
       "version_major": 2,
       "version_minor": 0
      },
      "text/plain": [
       "tokenizer.model:   0%|          | 0.00/500k [00:00<?, ?B/s]"
      ]
     },
     "metadata": {},
     "output_type": "display_data"
    },
    {
     "data": {
      "application/vnd.jupyter.widget-view+json": {
       "model_id": "56f9e93b2aca4756b2516d8b320758e5",
       "version_major": 2,
       "version_minor": 0
      },
      "text/plain": [
       "tokenizer.json:   0%|          | 0.00/1.94M [00:00<?, ?B/s]"
      ]
     },
     "metadata": {},
     "output_type": "display_data"
    },
    {
     "data": {
      "application/vnd.jupyter.widget-view+json": {
       "model_id": "1be7aa9db32746de9751f2e7922b773c",
       "version_major": 2,
       "version_minor": 0
      },
      "text/plain": [
       "added_tokens.json:   0%|          | 0.00/306 [00:00<?, ?B/s]"
      ]
     },
     "metadata": {},
     "output_type": "display_data"
    },
    {
     "data": {
      "application/vnd.jupyter.widget-view+json": {
       "model_id": "249eb33f8f884c649b7df2a230c330f2",
       "version_major": 2,
       "version_minor": 0
      },
      "text/plain": [
       "special_tokens_map.json:   0%|          | 0.00/599 [00:00<?, ?B/s]"
      ]
     },
     "metadata": {},
     "output_type": "display_data"
    },
    {
     "name": "stderr",
     "output_type": "stream",
     "text": [
      "Special tokens have been added in the vocabulary, make sure the associated word embeddings are fine-tuned or trained.\n"
     ]
    }
   ],
   "source": [
    "tokenizer = AutoTokenizer.from_pretrained(\"microsoft/Phi-3-mini-128k-instruct\")"
   ]
  },
  {
   "cell_type": "code",
   "execution_count": 13,
   "id": "f6b631db-6b5f-4702-8e3d-1029159513bc",
   "metadata": {
    "execution": {
     "iopub.execute_input": "2024-07-04T01:23:37.780426Z",
     "iopub.status.busy": "2024-07-04T01:23:37.779886Z",
     "iopub.status.idle": "2024-07-04T01:23:37.784441Z",
     "shell.execute_reply": "2024-07-04T01:23:37.783524Z",
     "shell.execute_reply.started": "2024-07-04T01:23:37.780402Z"
    },
    "tags": []
   },
   "outputs": [],
   "source": [
    "pipe = pipeline( \n",
    "    \"text-generation\", \n",
    "    model=model, \n",
    "    tokenizer=tokenizer, \n",
    ")"
   ]
  },
  {
   "cell_type": "code",
   "execution_count": 21,
   "id": "9a85bbc5-4191-4b71-8924-adddd21573c5",
   "metadata": {
    "execution": {
     "iopub.execute_input": "2024-07-04T01:30:37.494347Z",
     "iopub.status.busy": "2024-07-04T01:30:37.493953Z",
     "iopub.status.idle": "2024-07-04T01:30:37.500446Z",
     "shell.execute_reply": "2024-07-04T01:30:37.499565Z",
     "shell.execute_reply.started": "2024-07-04T01:30:37.494323Z"
    },
    "tags": []
   },
   "outputs": [],
   "source": [
    "def build_prompt(query, search_results):\n",
    "    prompt_template = \"\"\"\n",
    "You're a course teaching assistant. Answer the QUESTION based on the CONTEXT from the FAQ database.\n",
    "Use only the facts from the CONTEXT when answering the QUESTION.\n",
    "\n",
    "QUESTION: {question}\n",
    "\n",
    "CONTEXT: \n",
    "{context}\n",
    "\"\"\".strip()\n",
    "\n",
    "    context = \"\"\n",
    "    \n",
    "    for doc in search_results:\n",
    "        context = context + f\"section: {doc['section']}\\nquestion: {doc['question']}\\nanswer: {doc['text']}\\n\\n\"\n",
    "    \n",
    "    prompt = prompt_template.format(question=query, context=context).strip()\n",
    "    return prompt\n",
    "\n",
    "def llm(prompt):\n",
    "    messages = [ \n",
    "        {\"role\": \"system\", \"content\": prompt}, \n",
    "    ] \n",
    "\n",
    "    generation_args = { \n",
    "        \"max_new_tokens\": 500, \n",
    "        \"return_full_text\": False, \n",
    "        \"temperature\": 0.0, \n",
    "        \"do_sample\": False, \n",
    "    } \n",
    "\n",
    "    output = pipe(messages, **generation_args) \n",
    "    return output[0]['generated_text'].strip()"
   ]
  },
  {
   "cell_type": "code",
   "execution_count": 22,
   "id": "78e4b644-25ab-4816-9947-94ccc23426fb",
   "metadata": {
    "execution": {
     "iopub.execute_input": "2024-07-04T01:30:37.979688Z",
     "iopub.status.busy": "2024-07-04T01:30:37.979297Z",
     "iopub.status.idle": "2024-07-04T01:30:45.183568Z",
     "shell.execute_reply": "2024-07-04T01:30:45.182761Z",
     "shell.execute_reply.started": "2024-07-04T01:30:37.979664Z"
    },
    "tags": []
   },
   "outputs": [
    {
     "data": {
      "text/plain": [
       "'You can still join the course even if you discover it after the start date. You are eligible to submit the homeworks, but remember to meet the deadlines for the final projects. The course will start on 15th Jan 2024 at 17h00, and you can register before the course starts using the provided link. You can also follow the course materials and prepare for the next cohort after it finishes.'"
      ]
     },
     "execution_count": 22,
     "metadata": {},
     "output_type": "execute_result"
    }
   ],
   "source": [
    "rag(\"I just discovered the course. Can I still join it?\")"
   ]
  },
  {
   "cell_type": "code",
   "execution_count": null,
   "id": "7186e06c-484d-402e-9500-a552414e39c5",
   "metadata": {},
   "outputs": [],
   "source": []
  }
 ],
 "metadata": {
  "kernelspec": {
   "display_name": "saturn (Python 3)",
   "language": "python",
   "name": "python3"
  },
  "language_info": {
   "codemirror_mode": {
    "name": "ipython",
    "version": 3
   },
   "file_extension": ".py",
   "mimetype": "text/x-python",
   "name": "python",
   "nbconvert_exporter": "python",
   "pygments_lexer": "ipython3",
   "version": "3.9.18"
  }
 },
 "nbformat": 4,
 "nbformat_minor": 5
}
