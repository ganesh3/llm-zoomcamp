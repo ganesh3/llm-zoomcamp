{
 "cells": [
  {
   "cell_type": "code",
   "execution_count": 16,
   "id": "729ab909-2388-4011-bbe6-e11ee8c10dfc",
   "metadata": {},
   "outputs": [],
   "source": [
    "# we will use ollama to run the code as OpenAI needs payments to use their API\n",
    "# refer https://github.com/BlackTechX011/Ollama-in-GitHub-Codespaces to download ollama to codespaces\n",
    "# ollama serve -- run ollama\n",
    "# ollama run phi3 -- run the phi3 model with ollama serve running in background"
   ]
  },
  {
   "cell_type": "code",
   "execution_count": 19,
   "id": "51de9374-609c-4f03-90ae-ee1747f9cfc2",
   "metadata": {},
   "outputs": [],
   "source": [
    "import os\n",
    "import ollama"
   ]
  },
  {
   "cell_type": "code",
   "execution_count": 20,
   "id": "845ae77d-1ca3-46fc-a6ec-45a2a153c26d",
   "metadata": {},
   "outputs": [],
   "source": [
    "response = ollama.chat(\n",
    "    model='phi3',\n",
    "    messages=[{\"role\": \"user\", \"content\": \"is it too late to join the course?\"}]\n",
    ")"
   ]
  },
  {
   "cell_type": "code",
   "execution_count": 25,
   "id": "bf6acc8a-9c25-4ff9-ae62-64523283ad75",
   "metadata": {},
   "outputs": [
    {
     "data": {
      "text/plain": [
       "\" I cannot provide real-time enrollment dates, but typically courses have specific deadlines for joining. To determine if it's still possible for you to enroll in a particular course, please check directly with the educational institution offering the course or visit their official website where they usually list important dates and deadlines. If you give me the name of the course and the institution, I might be able to help you find more detailed information about joining it late.\""
      ]
     },
     "execution_count": 25,
     "metadata": {},
     "output_type": "execute_result"
    }
   ],
   "source": [
    "response.get(\"message\", {}).get(\"content\")"
   ]
  },
  {
   "cell_type": "code",
   "execution_count": null,
   "id": "22695d76",
   "metadata": {},
   "outputs": [],
   "source": []
  }
 ],
 "metadata": {
  "kernelspec": {
   "display_name": "Python 3 (ipykernel)",
   "language": "python",
   "name": "python3"
  },
  "language_info": {
   "codemirror_mode": {
    "name": "ipython",
    "version": 3
   },
   "file_extension": ".py",
   "mimetype": "text/x-python",
   "name": "python",
   "nbconvert_exporter": "python",
   "pygments_lexer": "ipython3",
   "version": "3.11.7"
  }
 },
 "nbformat": 4,
 "nbformat_minor": 5
}
